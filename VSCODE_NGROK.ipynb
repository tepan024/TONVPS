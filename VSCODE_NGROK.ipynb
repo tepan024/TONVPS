{
  "nbformat": 4,
  "nbformat_minor": 0,
  "metadata": {
    "colab": {
      "name": "VSCODE_NGROK.ipynb",
      "private_outputs": true,
      "provenance": [],
      "collapsed_sections": [],
      "machine_shape": "hm"
    },
    "kernelspec": {
      "name": "python3",
      "display_name": "Python 3"
    },
    "accelerator": "GPU"
  },
  "cells": [
    {
      "cell_type": "code",
      "source": [
        "#@title **INSTALL NGROK + MOUNT DRIVE**\n",
        "!pip install pyngrok\n",
        "\n",
        "import os\n",
        "from pyngrok import ngrok\n",
        "# Update the package lists\n",
        "!sudo apt update\n",
        "\n",
        "# Mount Google Drive\n",
        "from google.colab import drive\n",
        "drive.mount('/content/drive')\n",
        "# Drive is mounted under \"/content/drive/My Drive/\"\n",
        "\n",
        "# Ask for the ngrok authtoken\n",
        "print(\"Get your authtoken from https://dashboard.ngrok.com/auth\")\n",
        "import getpass\n",
        "authtoken = getpass.getpass()  # input your Ngrok auth token everytime you run the cell or simply replace \"getpass.getpass()\" with your token in \"double quotes\"\n",
        "!ngrok authtoken $authtoken # login to ngrok\n",
        "print(\"Google drive mounted and ngrok primed up. Now run any of the cells below.\")\n"
      ],
      "metadata": {
        "cellView": "form",
        "id": "4hc6Ady0vtUq"
      },
      "execution_count": null,
      "outputs": []
    },
    {
      "cell_type": "code",
      "source": [
        "#@title **INSTALL VSCODE**\n",
        "!curl -fsSL https://code-server.dev/install.sh | sh\n",
        "vscode_tunnel = ngrok.connect(8123)\n",
        "print(\"Open the first link below in browser:\")\n",
        "print(str(vscode_tunnel).replace('http://', 'https://'))\n",
        "\n",
        "!mkdir \"/content/drive/My Drive/code-server\"\n",
        "! sudo rm \"/content/drive/My Drive/code-server/config.yaml\"\n",
        "! echo \"bind-addr: 127.0.0.1:8123\" >> \"/content/drive/My Drive/code-server/config.yaml\"\n",
        "! echo \"auth: password\" >> \"/content/drive/My Drive/code-server/config.yaml\"\n",
        "! echo \"password: 123\" >> \"/content/drive/My Drive/code-server/config.yaml\" #the default password is devcolab\n",
        "! echo \"cert: false\" >> \"/content/drive/My Drive/code-server/config.yaml\"\n",
        "! code-server --config \"/content/drive/My Drive/code-server/config.yaml\" --user-data-dir \"/content/drive/My Drive/code-server\"\n"
      ],
      "metadata": {
        "cellView": "form",
        "id": "ZqcOjfXXvvui"
      },
      "execution_count": null,
      "outputs": []
    },
    {
      "cell_type": "markdown",
      "metadata": {
        "id": "eE9aAf3DWyw6"
      },
      "source": [
        "-\n",
        "\n",
        "-\n",
        "\n",
        "# **Done !!**"
      ]
    }
  ]
}